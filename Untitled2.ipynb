{
 "cells": [
  {
   "cell_type": "markdown",
   "id": "de5251e8-02e4-44c6-9667-bcf82b968881",
   "metadata": {},
   "source": [
    "# Data Science Project"
   ]
  },
  {
   "cell_type": "markdown",
   "id": "5aa5acd9-f53a-4413-bb94-21c7da14aaf6",
   "metadata": {},
   "source": [
    "## This notebook covers various aspects of data science, including languages, libraries, and tools."
   ]
  },
  {
   "cell_type": "markdown",
   "id": "e2880837-61df-4244-ba7a-d81016024eeb",
   "metadata": {},
   "source": [
    "## Data Science Languages\n",
    "- Python\n",
    "- R\n",
    "- SQL\n"
   ]
  },
  {
   "cell_type": "markdown",
   "id": "0160471d-3364-4686-866f-f975afe10a4b",
   "metadata": {},
   "source": [
    "## Data Science Libraries\n",
    "- Pandas\n",
    "- NumPy\n",
    "- Scikit-learn\n"
   ]
  },
  {
   "cell_type": "markdown",
   "id": "255e018b-98aa-4245-a006-15c897e8da3d",
   "metadata": {},
   "source": [
    "## Data Science Tools\n",
    "| Tool           | Purpose                 |\n",
    "|----------------|-------------------------|\n",
    "| Jupyter Notebook | Data analysis and visualization |\n",
    "| RStudio        | Statistical analysis    |\n",
    "| Apache Spark   | Big data processing     |\n"
   ]
  },
  {
   "cell_type": "markdown",
   "id": "bbe61e6b-a4da-4ee8-8648-9707254d40a1",
   "metadata": {},
   "source": [
    "## Arithmetic Expression Examples\n"
   ]
  },
  {
   "cell_type": "markdown",
   "id": "c768d021-44c2-4eaf-96c3-31bdfb44b99b",
   "metadata": {},
   "source": [
    "# Multiplication and addition example\n",
    "result = (3 * 4) + 5\n",
    "result\n"
   ]
  },
  {
   "cell_type": "markdown",
   "id": "d1010c5b-1a94-4bd8-ae1f-188ed4be75bd",
   "metadata": {},
   "source": [
    "# Convert minutes to hours\n",
    "minutes = 120\n",
    "hours = minutes / 60\n",
    "hours\n"
   ]
  },
  {
   "cell_type": "markdown",
   "id": "b5c225ab-0c75-46a1-b054-cf65a17da371",
   "metadata": {},
   "source": [
    "## Objectives\n",
    "- List data science languages\n",
    "- Demonstrate basic arithmetic operations\n",
    "- Convert time units\n"
   ]
  },
  {
   "cell_type": "markdown",
   "id": "34770cf7-4a95-467a-b45c-909839ad4812",
   "metadata": {},
   "source": [
    "## Author\n",
    "- Abbas Alramadan\n"
   ]
  }
 ],
 "metadata": {
  "kernelspec": {
   "display_name": "Python 3 (ipykernel)",
   "language": "python",
   "name": "python3"
  },
  "language_info": {
   "codemirror_mode": {
    "name": "ipython",
    "version": 3
   },
   "file_extension": ".py",
   "mimetype": "text/x-python",
   "name": "python",
   "nbconvert_exporter": "python",
   "pygments_lexer": "ipython3",
   "version": "3.10.13"
  }
 },
 "nbformat": 4,
 "nbformat_minor": 5
}
